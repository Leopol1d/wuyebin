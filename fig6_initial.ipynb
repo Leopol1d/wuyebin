{
 "cells": [
  {
   "cell_type": "code",
   "execution_count": 1,
   "metadata": {},
   "outputs": [],
   "source": [
    "%matplotlib notebook"
   ]
  },
  {
   "cell_type": "code",
   "execution_count": 2,
   "metadata": {},
   "outputs": [],
   "source": [
    "import matplotlib.pyplot as plt\n",
    "import numpy as np\n",
    "import pandas as pd"
   ]
  },
  {
   "cell_type": "code",
   "execution_count": 3,
   "metadata": {},
   "outputs": [],
   "source": [
    "def L_matrix():\n",
    "    n=50\n",
    "    A=np.zeros([n,n],dtype=np.int)\n",
    "    for i in range(50):\n",
    "        for j in range(50):\n",
    "            if(i!=j):\n",
    "                A[i,j]=np.random.binomial(1, 0.1, 1)\n",
    "    \n",
    "    A=A+A.T\n",
    "    for i in range(50):\n",
    "        for j in range(50):\n",
    "            if(A[i,j]>0):\n",
    "                A[i,j]=1\n",
    "                \n",
    "    D=np.sum(A,axis = 1)\n",
    "    for i in range(50):\n",
    "        A[i,i]=-D[i]\n",
    "        \n",
    "    i=np.random.normal(50, 10,50)\n",
    "    \n",
    "    \n",
    "    return -A,i"
   ]
  },
  {
   "cell_type": "code",
   "execution_count": 4,
   "metadata": {},
   "outputs": [],
   "source": [
    "L_set=np.array(np.zeros([1,50,50]),ndmin=3)\n",
    "i_set=np.array(np.zeros([1,50]),ndmin=2)\n",
    "for number_L in range(50):\n",
    "    L,i=L_matrix()\n",
    "    i_set=np.append(i_set,[i],axis=0)\n",
    "    L_set=np.append(L_set,[L],axis=0)"
   ]
  },
  {
   "cell_type": "code",
   "execution_count": 5,
   "metadata": {},
   "outputs": [],
   "source": [
    "#L\n",
    "for x in range(50):\n",
    "    data_L=pd.DataFrame(L_set[x+1,:,:])\n",
    "    data_L.to_csv(\"fig6/L_\"+str(x+1)+\".csv\")\n",
    "#i\n",
    "data_I=pd.DataFrame(i_set)\n",
    "data_I.to_csv(\"fig6/I.csv\")"
   ]
  },
  {
   "cell_type": "markdown",
   "metadata": {},
   "source": [
    "a=np.array([],ndmin=2)#ndmin可以设置初始数组的维数，\n",
    "np.append(a,np.array([[0]]),axis=1)#注意append两个数组的维度要相同,axis=0:(行)只有一列，axis=1：（列）只有一行，axis数据越小越外层（越外维度）\n",
    "a[x,y,z]\n",
    "x为最外层\n",
    "a[1,:,:]\n",
    "为一个二维数组"
   ]
  },
  {
   "cell_type": "code",
   "execution_count": 56,
   "metadata": {},
   "outputs": [
    {
     "name": "stdout",
     "output_type": "stream",
     "text": [
      "asd1\n"
     ]
    }
   ],
   "source": []
  },
  {
   "cell_type": "code",
   "execution_count": 28,
   "metadata": {},
   "outputs": [
    {
     "data": {
      "text/plain": [
       "array([40.84057632, 50.26225782, 61.49536791, 57.74773993, 42.9825765 ,\n",
       "       22.21646122, 58.18248502, 40.81370729, 59.13504492, 48.14958556,\n",
       "       33.88007149, 57.46449383, 67.96285364, 49.02933202, 41.51577484,\n",
       "       53.50543544, 59.80578766, 35.78586873, 50.6009543 , 34.16735703,\n",
       "       48.61100987, 70.85094628, 40.84723928, 46.22531357, 58.69745613,\n",
       "       53.29901057, 45.65501994, 50.1971187 , 43.62586539, 51.76711581,\n",
       "       61.19155643, 32.50196007, 54.92045435, 58.3697599 , 41.25055975,\n",
       "       51.54941811, 64.4851078 , 64.52720904, 45.74151851, 56.90417785,\n",
       "       65.61730412, 44.65459132, 37.83247632, 43.08658673, 64.5938078 ,\n",
       "       62.37557309, 43.8666418 , 56.77734098, 61.95950744, 60.55615428])"
      ]
     },
     "execution_count": 28,
     "metadata": {},
     "output_type": "execute_result"
    }
   ],
   "source": []
  },
  {
   "cell_type": "code",
   "execution_count": 79,
   "metadata": {},
   "outputs": [
    {
     "data": {
      "text/plain": [
       "array([[[0., 0., 0.],\n",
       "        [0., 0., 0.]],\n",
       "\n",
       "       [[1., 2., 3.],\n",
       "        [3., 2., 1.]]])"
      ]
     },
     "execution_count": 79,
     "metadata": {},
     "output_type": "execute_result"
    }
   ],
   "source": [
    "# b=np.array([[1,2,3],[3,2,1]])\n",
    "# a=np.array(np.zeros([1,2,3]),ndmin=3)\n",
    "# a=np.append(a,np.array([b]),axis=0)\n",
    "# a"
   ]
  },
  {
   "cell_type": "code",
   "execution_count": 11,
   "metadata": {},
   "outputs": [],
   "source": []
  },
  {
   "cell_type": "code",
   "execution_count": 12,
   "metadata": {},
   "outputs": [
    {
     "data": {
      "text/plain": [
       "array([[0., 0., 0., 0., 0., 0., 0., 0., 0., 0., 0., 0., 0., 0., 0., 0.,\n",
       "        0., 0., 0., 0., 0., 0., 0., 0., 0., 0., 0., 0., 0., 0., 0., 0.,\n",
       "        0., 0., 0., 0., 0., 0., 0., 0., 0., 0., 0., 0., 0., 0., 0., 0.,\n",
       "        0., 0.],\n",
       "       [0., 0., 0., 0., 0., 0., 0., 0., 0., 0., 0., 0., 0., 0., 0., 0.,\n",
       "        0., 0., 0., 0., 0., 0., 0., 0., 0., 0., 0., 0., 0., 0., 0., 0.,\n",
       "        0., 0., 0., 0., 0., 0., 0., 0., 0., 0., 0., 0., 0., 0., 0., 0.,\n",
       "        0., 0.]])"
      ]
     },
     "execution_count": 12,
     "metadata": {},
     "output_type": "execute_result"
    }
   ],
   "source": []
  },
  {
   "cell_type": "code",
   "execution_count": null,
   "metadata": {},
   "outputs": [],
   "source": []
  }
 ],
 "metadata": {
  "kernelspec": {
   "display_name": "Python 3",
   "language": "python",
   "name": "python3"
  },
  "language_info": {
   "codemirror_mode": {
    "name": "ipython",
    "version": 3
   },
   "file_extension": ".py",
   "mimetype": "text/x-python",
   "name": "python",
   "nbconvert_exporter": "python",
   "pygments_lexer": "ipython3",
   "version": "3.7.4"
  }
 },
 "nbformat": 4,
 "nbformat_minor": 2
}
